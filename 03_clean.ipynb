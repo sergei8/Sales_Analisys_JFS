{
 "cells": [
  {
   "cell_type": "markdown",
   "metadata": {},
   "source": [
    "## Раздел III. Контроль и очистка данных\n",
    "\n",
    "### Целью этапа является \n",
    "- проверка непротиворечивости данных\n",
    "- преобразование форматов\n",
    "- устранение избыточности\n",
    "- контроль целостности\n",
    "- анализ и обработка \"выбросов\"\n",
    "\n",
    "__Результатом__ этапа должен быть подготовленный для построения моделей набор данных"
   ]
  },
  {
   "cell_type": "code",
   "execution_count": 10,
   "metadata": {
    "collapsed": true
   },
   "outputs": [],
   "source": [
    "import pandas as pd\n",
    "import numpy as np\n",
    "from matplotlib import pyplot as plt\n",
    "%matplotlib inline\n",
    "from datetime import datetime"
   ]
  },
  {
   "cell_type": "code",
   "execution_count": 11,
   "metadata": {
    "collapsed": true
   },
   "outputs": [],
   "source": [
    "# загрузим рабочий набор из предыдущего этапа \n",
    "orders = pd.read_csv('orders_3.csv', low_memory=False, dtype={'CUST_ZIP_C': object})"
   ]
  },
  {
   "cell_type": "code",
   "execution_count": 12,
   "metadata": {
    "collapsed": true
   },
   "outputs": [],
   "source": [
    "# импортируем из вспомогателього модуля 'my_utils' класс для работы с orders\n",
    "from my_utils import Order\n",
    "\n",
    "# создадим объект\n",
    "obj_orders = Order(orders)"
   ]
  },
  {
   "cell_type": "markdown",
   "metadata": {},
   "source": [
    "### а) удаление неинформативных показателей"
   ]
  },
  {
   "cell_type": "code",
   "execution_count": 13,
   "metadata": {},
   "outputs": [
    {
     "data": {
      "text/plain": [
       "Index([u'SA_HDR_TIC', u'CUST_NAM', u'SA_HDR_DAT', u'SA_HDR_AMT', u'CUST_CAT',\n",
       "       u'CUST_PROFI', u'CUST_PRO01', u'CUST_PRO02', u'CUST_PRO03',\n",
       "       u'CUST_PRO04', u'CUST_PRO05', u'LINES_QTY', u'ITEMS_QTY', u'CUST_ZIP_C',\n",
       "       u'CUST_CITY', u'CUST_LST_P', u'CUST_LST01', u'CUST_BAL',\n",
       "       u'CUST_RET_QTY', u'CUST_RET_SUM', u'CUST_TIME_DEAL', u'CUST_TOTAL_AMT',\n",
       "       u'SA_HDR_DOW', u'CUST_DIST'],\n",
       "      dtype='object')"
      ]
     },
     "execution_count": 13,
     "metadata": {},
     "output_type": "execute_result"
    }
   ],
   "source": [
    "orders.columns"
   ]
  },
  {
   "cell_type": "code",
   "execution_count": 14,
   "metadata": {
    "collapsed": true
   },
   "outputs": [],
   "source": [
    "# удалим колонки SA_HDR_TIC - номер накладной, SA_HDR_DAT - дату накладной,\n",
    "# CUST_LST_P и CUST_LST01 - показатели последней продажи\n",
    "# CUST_ZIP_C - не нужен, т.к. на его основе вычислено расстояние\n",
    "# CUST_BAL - текущий балланс, нельзя использовать, т.к. содержит историческую составляющую\n",
    "\n",
    "orders.drop(['SA_HDR_TIC','SA_HDR_DAT','CUST_LST_P','CUST_LST01', 'CUST_BAL'], axis=1, inplace=True)"
   ]
  },
  {
   "cell_type": "markdown",
   "metadata": {},
   "source": [
    "### б) устранение пустых значений в показателях"
   ]
  },
  {
   "cell_type": "code",
   "execution_count": 15,
   "metadata": {},
   "outputs": [
    {
     "data": {
      "text/plain": [
       "array(['PH', 'RG', '1', 'PA', 'PL', 'AOPH', nan, 'RAYPH', '001', 'MHPH',\n",
       "       'AR', 'MH', 'AO', 'ARPA', 'NJ', 'ABW', 'RAJPA', '14.50', 'ANG',\n",
       "       'ARPH', '19.20', 'NSL', 'RAYPA', 'GP', 'MHPA', 'RAJPH', 'GB', 'HB',\n",
       "       'BH', 'RAY', 'L', '500', 'RRJ', '2'], dtype=object)"
      ]
     },
     "execution_count": 15,
     "metadata": {},
     "output_type": "execute_result"
    }
   ],
   "source": [
    "# выведем значение CUST_CAT\n",
    "orders.CUST_CAT.unique()"
   ]
  },
  {
   "cell_type": "code",
   "execution_count": 16,
   "metadata": {
    "collapsed": true
   },
   "outputs": [],
   "source": [
    "# пустые значения в этом поле заменим на категорию 'NO-CAT'\n",
    "orders.CUST_CAT.fillna('NO-CAT', inplace=True)"
   ]
  },
  {
   "cell_type": "code",
   "execution_count": 17,
   "metadata": {},
   "outputs": [
    {
     "name": "stdout",
     "output_type": "stream",
     "text": [
      "['19101' '19369' '19346' '27702' '17128' '27102' '08903' '50771' '08646'\n",
      " '08076' '87719' '88620']\n"
     ]
    }
   ],
   "source": [
    "# покупатели с неправильными zip-кодами (для них не найдено расстояние)\n",
    "bad_zip_codes = orders[pd.isnull(orders.CUST_DIST)].CUST_ZIP_C.unique()\n",
    "print(bad_zip_codes)"
   ]
  },
  {
   "cell_type": "code",
   "execution_count": 18,
   "metadata": {},
   "outputs": [
    {
     "name": "stdout",
     "output_type": "stream",
     "text": [
      "медиана = 32.0\n"
     ]
    }
   ],
   "source": [
    "# заполним отсутствующие расстояния медианой расстояний по датасету\n",
    "median_dist = orders['CUST_DIST'].median()\n",
    "print 'медиана = {}'.format(median_dist)\n",
    "\n",
    "orders.CUST_DIST.fillna(median_dist, inplace=True)"
   ]
  },
  {
   "cell_type": "code",
   "execution_count": 19,
   "metadata": {
    "collapsed": true
   },
   "outputs": [],
   "source": [
    "# удалим zip-коды за ненадобностью, т.к. на их основе вычислены расстояния\n",
    "#orders.drop(['CUST_ZIP_C'], axis=1, inplace=True)"
   ]
  },
  {
   "cell_type": "code",
   "execution_count": 20,
   "metadata": {
    "collapsed": true
   },
   "outputs": [],
   "source": [
    "# преобразуем день недели в категорийный признак\n",
    "orders.SA_HDR_DOW = pd.Categorical(orders['SA_HDR_DOW'])"
   ]
  },
  {
   "cell_type": "code",
   "execution_count": 21,
   "metadata": {},
   "outputs": [
    {
     "name": "stderr",
     "output_type": "stream",
     "text": [
      "/Users/sergey/anaconda/lib/python2.7/site-packages/matplotlib/axes/_base.py:3193: UserWarning: Attempting to set identical bottom==top results\n",
      "in singular transformations; automatically expanding.\n",
      "bottom=178615, top=178615\n",
      "  'bottom=%s, top=%s') % (bottom, top))\n"
     ]
    },
    {
     "data": {
      "image/png": "[encoded data removed]",
      "text/plain": [
       "<matplotlib.figure.Figure at 0x10cf75790>"
      ]
     },
     "metadata": {},
     "output_type": "display_data"
    }
   ],
   "source": [
    "obj_orders.futures_dist()"
   ]
  },
  {
   "cell_type": "markdown",
   "metadata": {},
   "source": [
    "### в) удаление отрицательных значений SA_HDR_AMT (возвратов), т.к. мы прогнозируем продажи"
   ]
  },
  {
   "cell_type": "code",
   "execution_count": 22,
   "metadata": {
    "scrolled": false
   },
   "outputs": [
    {
     "name": "stdout",
     "output_type": "stream",
     "text": [
      "(170234, 19)\n"
     ]
    }
   ],
   "source": [
    "orders = orders[orders.SA_HDR_AMT > 0]\n",
    "print orders.shape"
   ]
  },
  {
   "cell_type": "code",
   "execution_count": 23,
   "metadata": {},
   "outputs": [],
   "source": [
    "orders = orders.drop_duplicates()"
   ]
  },
  {
   "cell_type": "code",
   "execution_count": 26,
   "metadata": {
    "collapsed": true
   },
   "outputs": [],
   "source": [
    "# сохранить очищеный набор в orders_3-1.csv\n",
    "orders.to_csv('orders_3-1.csv', index=False)"
   ]
  },
  {
   "cell_type": "markdown",
   "metadata": {},
   "source": [
    "## исследуем статистики отдельных показателей\n",
    "\n",
    "### a) количественные показатели\n",
    "\n",
    "#### 1. _ПРОДАЖИ_ - SA_HDR_AMT"
   ]
  },
  {
   "cell_type": "code",
   "execution_count": 73,
   "metadata": {
    "scrolled": true
   },
   "outputs": [
    {
     "name": "stdout",
     "output_type": "stream",
     "text": [
      "всего отрицательных значений: 7971\n"
     ]
    }
   ],
   "source": [
    "print 'всего отрицательных значений: {}'.format(orders[orders.SA_HDR_AMT < 0].shape[0])"
   ]
  },
  {
   "cell_type": "code",
   "execution_count": 74,
   "metadata": {
    "collapsed": true
   },
   "outputs": [],
   "source": [
    "# удалим из датафрейма возвраты, т.к. нас интересуют только продажи\n",
    "orders = orders[orders.SA_HDR_AMT > 0]"
   ]
  },
  {
   "cell_type": "code",
   "execution_count": 75,
   "metadata": {
    "scrolled": false
   },
   "outputs": [
    {
     "data": {
      "text/plain": [
       "count    170234.000000\n",
       "mean       1733.446236\n",
       "std        3826.586135\n",
       "min           0.390000\n",
       "25%         421.320000\n",
       "50%        1017.455000\n",
       "75%        2146.130000\n",
       "max      183483.000000\n",
       "Name: SA_HDR_AMT, dtype: float64"
      ]
     },
     "execution_count": 75,
     "metadata": {},
     "output_type": "execute_result"
    },
    {
     "data": {
      "image/png": "[encoded data removed]",
      "text/plain": [
       "<matplotlib.figure.Figure at 0x12995e690>"
      ]
     },
     "metadata": {},
     "output_type": "display_data"
    }
   ],
   "source": [
    "# выведем график частотности и описательную статистику показателя\n",
    "orders['SA_HDR_AMT'].plot.hist(alpha=.75)\n",
    "orders.SA_HDR_AMT.describe()"
   ]
  },
  {
   "cell_type": "markdown",
   "metadata": {},
   "source": [
    "#### _из таблицы и графика видно, что 3 квартиля показывают сопоставимые объемы продаж, а в 4-м есть выбросы. Стандартное отклонение >> среднего, что указывает на значительную дисперсию. Исследуем эти выбросы._"
   ]
  },
  {
   "cell_type": "code",
   "execution_count": 76,
   "metadata": {},
   "outputs": [
    {
     "name": "stdout",
     "output_type": "stream",
     "text": [
      "['PNK WHOLESALE', 'K+T WHOLESALE DISTRIBUTOR', 'BUTTS & BETTS, LLC', 'ANG WHOLESALE CASH &CARRY', 'SUNOCO STATE RD', 'SUNOCO STREET ROAD', '7-ELEVEN MORRISVILLE', 'SUN WHOLESALE', '7-11 BRACE ROAD']\n"
     ]
    }
   ],
   "source": [
    "# посмотрим на покупателей с объемами покупок > 25000\n",
    "big_sales = orders[orders.SA_HDR_AMT > 25000].CUST_NAM.unique()\n",
    "\n",
    "print list(big_sales)"
   ]
  },
  {
   "cell_type": "code",
   "execution_count": 77,
   "metadata": {
    "collapsed": true
   },
   "outputs": [],
   "source": [
    "# из их названия видно, что это очевидно оптовые покупатели и для их анализа нужно строить \n",
    "# отдельную от розничных покупателей модель\n",
    "# удалим из рассмотрения накладные, у которых значение SA_HDR_AMT > среднего + ст.отклонение\n",
    "\n",
    "mean, std = orders.SA_HDR_AMT.mean(), orders.SA_HDR_AMT.std()\n",
    "\n",
    "orders = orders[orders.SA_HDR_AMT < mean + std]"
   ]
  },
  {
   "cell_type": "code",
   "execution_count": 78,
   "metadata": {},
   "outputs": [
    {
     "name": "stdout",
     "output_type": "stream",
     "text": [
      "count    163226.000000\n",
      "mean       1334.277119\n",
      "std        1209.880352\n",
      "min           0.390000\n",
      "25%         399.360000\n",
      "50%         952.795000\n",
      "75%        1953.135000\n",
      "max        5559.690000\n",
      "Name: SA_HDR_AMT, dtype: float64\n"
     ]
    },
    {
     "data": {
      "image/png": "[encoded data removed]",
      "text/plain": [
       "<matplotlib.figure.Figure at 0x11b62fe90>"
      ]
     },
     "metadata": {},
     "output_type": "display_data"
    }
   ],
   "source": [
    "print orders.SA_HDR_AMT.describe()\n",
    "\n",
    "fig, axes = plt.subplots(nrows=1, ncols=2, figsize=(15,5))\n",
    "orders['SA_HDR_AMT'].plot.box(vert=False, ax=axes[0], subplots=True, rot=90)\n",
    "#axes[0].set_title('A')\n",
    "orders['SA_HDR_AMT'].plot.hist(ax=axes[1], subplots=True, alpha=.75)\n",
    "#axes[1].set_title('B')\n",
    "fig.show()"
   ]
  },
  {
   "cell_type": "markdown",
   "metadata": {},
   "source": [
    "#### из графиков видно, что незначительные выбросы остались, но частотность распределения стала показывать приемлемый вид"
   ]
  },
  {
   "cell_type": "code",
   "execution_count": 79,
   "metadata": {},
   "outputs": [
    {
     "data": {
      "text/plain": [
       "(163226, 19)"
      ]
     },
     "execution_count": 79,
     "metadata": {},
     "output_type": "execute_result"
    }
   ],
   "source": [
    "orders.shape"
   ]
  },
  {
   "cell_type": "markdown",
   "metadata": {},
   "source": [
    "####  2. _ДИСКАУНТЫ (скидки)_   - CUST_PROFI, CUST_PRO01 ... "
   ]
  },
  {
   "cell_type": "code",
   "execution_count": 80,
   "metadata": {
    "collapsed": true
   },
   "outputs": [],
   "source": [
    "# показатели CUST_PROFI, CUST_PRO01 ... - одной природы: дискаунты покупателя\n",
    "discounts = ['CUST_PROFI','CUST_PRO01', 'CUST_PRO02', 'CUST_PRO03', 'CUST_PRO04', 'CUST_PRO05']"
   ]
  },
  {
   "cell_type": "code",
   "execution_count": 81,
   "metadata": {
    "scrolled": true
   },
   "outputs": [
    {
     "data": {
      "text/html": [
       "<div>\n",
       "<style>\n",
       "    .dataframe thead tr:only-child th {\n",
       "        text-align: right;\n",
       "    }\n",
       "\n",
       "    .dataframe thead th {\n",
       "        text-align: left;\n",
       "    }\n",
       "\n",
       "    .dataframe tbody tr th {\n",
       "        vertical-align: top;\n",
       "    }\n",
       "</style>\n",
       "<table border=\"1\" class=\"dataframe\">\n",
       "  <thead>\n",
       "    <tr style=\"text-align: right;\">\n",
       "      <th></th>\n",
       "      <th>CUST_PROFI</th>\n",
       "      <th>CUST_PRO01</th>\n",
       "      <th>CUST_PRO02</th>\n",
       "      <th>CUST_PRO03</th>\n",
       "      <th>CUST_PRO04</th>\n",
       "      <th>CUST_PRO05</th>\n",
       "    </tr>\n",
       "  </thead>\n",
       "  <tbody>\n",
       "    <tr>\n",
       "      <th>0</th>\n",
       "      <td>3.00</td>\n",
       "      <td>2.10</td>\n",
       "      <td>1.80</td>\n",
       "      <td>0.0</td>\n",
       "      <td>0.0</td>\n",
       "      <td>0.0</td>\n",
       "    </tr>\n",
       "    <tr>\n",
       "      <th>1</th>\n",
       "      <td>2.00</td>\n",
       "      <td>1.50</td>\n",
       "      <td>1.50</td>\n",
       "      <td>0.0</td>\n",
       "      <td>0.0</td>\n",
       "      <td>0.0</td>\n",
       "    </tr>\n",
       "    <tr>\n",
       "      <th>2</th>\n",
       "      <td>2.00</td>\n",
       "      <td>1.25</td>\n",
       "      <td>1.10</td>\n",
       "      <td>0.0</td>\n",
       "      <td>0.0</td>\n",
       "      <td>0.0</td>\n",
       "    </tr>\n",
       "    <tr>\n",
       "      <th>3</th>\n",
       "      <td>3.65</td>\n",
       "      <td>3.00</td>\n",
       "      <td>2.65</td>\n",
       "      <td>0.0</td>\n",
       "      <td>0.0</td>\n",
       "      <td>0.0</td>\n",
       "    </tr>\n",
       "    <tr>\n",
       "      <th>4</th>\n",
       "      <td>2.00</td>\n",
       "      <td>1.25</td>\n",
       "      <td>1.10</td>\n",
       "      <td>0.0</td>\n",
       "      <td>0.0</td>\n",
       "      <td>0.0</td>\n",
       "    </tr>\n",
       "  </tbody>\n",
       "</table>\n",
       "</div>"
      ],
      "text/plain": [
       "   CUST_PROFI  CUST_PRO01  CUST_PRO02  CUST_PRO03  CUST_PRO04  CUST_PRO05\n",
       "0        3.00        2.10        1.80         0.0         0.0         0.0\n",
       "1        2.00        1.50        1.50         0.0         0.0         0.0\n",
       "2        2.00        1.25        1.10         0.0         0.0         0.0\n",
       "3        3.65        3.00        2.65         0.0         0.0         0.0\n",
       "4        2.00        1.25        1.10         0.0         0.0         0.0"
      ]
     },
     "execution_count": 81,
     "metadata": {},
     "output_type": "execute_result"
    }
   ],
   "source": [
    "orders[discounts].head()"
   ]
  },
  {
   "cell_type": "code",
   "execution_count": 82,
   "metadata": {},
   "outputs": [
    {
     "data": {
      "text/html": [
       "<div>\n",
       "<style>\n",
       "    .dataframe thead tr:only-child th {\n",
       "        text-align: right;\n",
       "    }\n",
       "\n",
       "    .dataframe thead th {\n",
       "        text-align: left;\n",
       "    }\n",
       "\n",
       "    .dataframe tbody tr th {\n",
       "        vertical-align: top;\n",
       "    }\n",
       "</style>\n",
       "<table border=\"1\" class=\"dataframe\">\n",
       "  <thead>\n",
       "    <tr style=\"text-align: right;\">\n",
       "      <th></th>\n",
       "      <th>CUST_PROFI</th>\n",
       "      <th>CUST_PRO01</th>\n",
       "      <th>CUST_PRO02</th>\n",
       "      <th>CUST_PRO03</th>\n",
       "      <th>CUST_PRO04</th>\n",
       "      <th>CUST_PRO05</th>\n",
       "    </tr>\n",
       "  </thead>\n",
       "  <tbody>\n",
       "    <tr>\n",
       "      <th>count</th>\n",
       "      <td>163226.000000</td>\n",
       "      <td>163226.000000</td>\n",
       "      <td>163226.000000</td>\n",
       "      <td>163226.000000</td>\n",
       "      <td>163226.000000</td>\n",
       "      <td>163226.000000</td>\n",
       "    </tr>\n",
       "    <tr>\n",
       "      <th>mean</th>\n",
       "      <td>2.609703</td>\n",
       "      <td>2.191034</td>\n",
       "      <td>2.048478</td>\n",
       "      <td>0.024166</td>\n",
       "      <td>0.050781</td>\n",
       "      <td>0.022608</td>\n",
       "    </tr>\n",
       "    <tr>\n",
       "      <th>std</th>\n",
       "      <td>1.357107</td>\n",
       "      <td>1.203728</td>\n",
       "      <td>1.173728</td>\n",
       "      <td>0.183930</td>\n",
       "      <td>0.189056</td>\n",
       "      <td>0.177485</td>\n",
       "    </tr>\n",
       "    <tr>\n",
       "      <th>min</th>\n",
       "      <td>0.000000</td>\n",
       "      <td>0.000000</td>\n",
       "      <td>0.000000</td>\n",
       "      <td>0.000000</td>\n",
       "      <td>0.000000</td>\n",
       "      <td>0.000000</td>\n",
       "    </tr>\n",
       "    <tr>\n",
       "      <th>25%</th>\n",
       "      <td>2.000000</td>\n",
       "      <td>1.500000</td>\n",
       "      <td>1.250000</td>\n",
       "      <td>0.000000</td>\n",
       "      <td>0.000000</td>\n",
       "      <td>0.000000</td>\n",
       "    </tr>\n",
       "    <tr>\n",
       "      <th>50%</th>\n",
       "      <td>3.000000</td>\n",
       "      <td>2.500000</td>\n",
       "      <td>2.400000</td>\n",
       "      <td>0.000000</td>\n",
       "      <td>0.000000</td>\n",
       "      <td>0.000000</td>\n",
       "    </tr>\n",
       "    <tr>\n",
       "      <th>75%</th>\n",
       "      <td>3.500000</td>\n",
       "      <td>3.000000</td>\n",
       "      <td>2.750000</td>\n",
       "      <td>0.000000</td>\n",
       "      <td>0.000000</td>\n",
       "      <td>0.000000</td>\n",
       "    </tr>\n",
       "    <tr>\n",
       "      <th>max</th>\n",
       "      <td>4.250000</td>\n",
       "      <td>4.000000</td>\n",
       "      <td>4.000000</td>\n",
       "      <td>2.000000</td>\n",
       "      <td>1.500000</td>\n",
       "      <td>3.000000</td>\n",
       "    </tr>\n",
       "  </tbody>\n",
       "</table>\n",
       "</div>"
      ],
      "text/plain": [
       "          CUST_PROFI     CUST_PRO01     CUST_PRO02     CUST_PRO03  \\\n",
       "count  163226.000000  163226.000000  163226.000000  163226.000000   \n",
       "mean        2.609703       2.191034       2.048478       0.024166   \n",
       "std         1.357107       1.203728       1.173728       0.183930   \n",
       "min         0.000000       0.000000       0.000000       0.000000   \n",
       "25%         2.000000       1.500000       1.250000       0.000000   \n",
       "50%         3.000000       2.500000       2.400000       0.000000   \n",
       "75%         3.500000       3.000000       2.750000       0.000000   \n",
       "max         4.250000       4.000000       4.000000       2.000000   \n",
       "\n",
       "          CUST_PRO04     CUST_PRO05  \n",
       "count  163226.000000  163226.000000  \n",
       "mean        0.050781       0.022608  \n",
       "std         0.189056       0.177485  \n",
       "min         0.000000       0.000000  \n",
       "25%         0.000000       0.000000  \n",
       "50%         0.000000       0.000000  \n",
       "75%         0.000000       0.000000  \n",
       "max         1.500000       3.000000  "
      ]
     },
     "execution_count": 82,
     "metadata": {},
     "output_type": "execute_result"
    }
   ],
   "source": [
    "orders[discounts].describe()"
   ]
  },
  {
   "cell_type": "code",
   "execution_count": 83,
   "metadata": {
    "scrolled": true
   },
   "outputs": [
    {
     "data": {
      "text/html": [
       "<div>\n",
       "<style>\n",
       "    .dataframe thead tr:only-child th {\n",
       "        text-align: right;\n",
       "    }\n",
       "\n",
       "    .dataframe thead th {\n",
       "        text-align: left;\n",
       "    }\n",
       "\n",
       "    .dataframe tbody tr th {\n",
       "        vertical-align: top;\n",
       "    }\n",
       "</style>\n",
       "<table border=\"1\" class=\"dataframe\">\n",
       "  <thead>\n",
       "    <tr style=\"text-align: right;\">\n",
       "      <th></th>\n",
       "      <th>CUST_PROFI</th>\n",
       "      <th>CUST_PRO01</th>\n",
       "      <th>CUST_PRO02</th>\n",
       "      <th>CUST_PRO03</th>\n",
       "      <th>CUST_PRO04</th>\n",
       "      <th>CUST_PRO05</th>\n",
       "    </tr>\n",
       "  </thead>\n",
       "  <tbody>\n",
       "    <tr>\n",
       "      <th>CUST_PROFI</th>\n",
       "      <td>1.000000</td>\n",
       "      <td>0.983879</td>\n",
       "      <td>0.965174</td>\n",
       "      <td>0.064351</td>\n",
       "      <td>0.115839</td>\n",
       "      <td>0.050184</td>\n",
       "    </tr>\n",
       "    <tr>\n",
       "      <th>CUST_PRO01</th>\n",
       "      <td>0.983879</td>\n",
       "      <td>1.000000</td>\n",
       "      <td>0.984089</td>\n",
       "      <td>0.069499</td>\n",
       "      <td>0.107623</td>\n",
       "      <td>0.059302</td>\n",
       "    </tr>\n",
       "    <tr>\n",
       "      <th>CUST_PRO02</th>\n",
       "      <td>0.965174</td>\n",
       "      <td>0.984089</td>\n",
       "      <td>1.000000</td>\n",
       "      <td>0.058234</td>\n",
       "      <td>0.089822</td>\n",
       "      <td>0.049175</td>\n",
       "    </tr>\n",
       "    <tr>\n",
       "      <th>CUST_PRO03</th>\n",
       "      <td>0.064351</td>\n",
       "      <td>0.069499</td>\n",
       "      <td>0.058234</td>\n",
       "      <td>1.000000</td>\n",
       "      <td>0.864049</td>\n",
       "      <td>0.816315</td>\n",
       "    </tr>\n",
       "    <tr>\n",
       "      <th>CUST_PRO04</th>\n",
       "      <td>0.115839</td>\n",
       "      <td>0.107623</td>\n",
       "      <td>0.089822</td>\n",
       "      <td>0.864049</td>\n",
       "      <td>1.000000</td>\n",
       "      <td>0.776247</td>\n",
       "    </tr>\n",
       "    <tr>\n",
       "      <th>CUST_PRO05</th>\n",
       "      <td>0.050184</td>\n",
       "      <td>0.059302</td>\n",
       "      <td>0.049175</td>\n",
       "      <td>0.816315</td>\n",
       "      <td>0.776247</td>\n",
       "      <td>1.000000</td>\n",
       "    </tr>\n",
       "  </tbody>\n",
       "</table>\n",
       "</div>"
      ],
      "text/plain": [
       "            CUST_PROFI  CUST_PRO01  CUST_PRO02  CUST_PRO03  CUST_PRO04  \\\n",
       "CUST_PROFI    1.000000    0.983879    0.965174    0.064351    0.115839   \n",
       "CUST_PRO01    0.983879    1.000000    0.984089    0.069499    0.107623   \n",
       "CUST_PRO02    0.965174    0.984089    1.000000    0.058234    0.089822   \n",
       "CUST_PRO03    0.064351    0.069499    0.058234    1.000000    0.864049   \n",
       "CUST_PRO04    0.115839    0.107623    0.089822    0.864049    1.000000   \n",
       "CUST_PRO05    0.050184    0.059302    0.049175    0.816315    0.776247   \n",
       "\n",
       "            CUST_PRO05  \n",
       "CUST_PROFI    0.050184  \n",
       "CUST_PRO01    0.059302  \n",
       "CUST_PRO02    0.049175  \n",
       "CUST_PRO03    0.816315  \n",
       "CUST_PRO04    0.776247  \n",
       "CUST_PRO05    1.000000  "
      ]
     },
     "execution_count": 83,
     "metadata": {},
     "output_type": "execute_result"
    }
   ],
   "source": [
    "# рассчитаем матрицу попарных корреляций\n",
    "orders[discounts].corr()"
   ]
  },
  {
   "cell_type": "code",
   "execution_count": 84,
   "metadata": {
    "collapsed": true
   },
   "outputs": [],
   "source": [
    "from pandas.plotting import scatter_matrix"
   ]
  },
  {
   "cell_type": "code",
   "execution_count": 85,
   "metadata": {},
   "outputs": [
    {
     "data": {
      "image/png": "[encoded data removed]",
      "text/plain": [
       "<matplotlib.figure.Figure at 0x11c196f90>"
      ]
     },
     "metadata": {},
     "output_type": "display_data"
    }
   ],
   "source": [
    "# построим графики попарного распределения значений скидок\n",
    "scatter_matrix(orders[discounts], diagonal='kde', figsize=(15,15), alpha=.75);"
   ]
  },
  {
   "cell_type": "markdown",
   "metadata": {},
   "source": [
    "#### корреляционная матрица и графики пказывают, что\n",
    "- скидки __CUST_PROFI - CUST_PRO02__ имею ярко выраженную линейную зависимость и могут быть \"свернуты\" в один показатель (CUST_DISC)\n",
    "- распределение скидок __CUST_PROF03 - CUST_PRO05__ обладают большим смещением и оценка их зависимости неочевидна, т.о. их можно в дальнейшем не рассматривать"
   ]
  },
  {
   "cell_type": "code",
   "execution_count": 86,
   "metadata": {
    "collapsed": true
   },
   "outputs": [],
   "source": [
    "# свернем значения показателей CUST_PROFI - CUST_PRO02 по среднему\n",
    "orders['CUST_DISC'] = (orders.CUST_PROFI + orders.CUST_PRO01 + orders.CUST_PRO02) / 3"
   ]
  },
  {
   "cell_type": "code",
   "execution_count": 87,
   "metadata": {},
   "outputs": [
    {
     "data": {
      "text/plain": [
       "count    163226.000000\n",
       "mean          2.283072\n",
       "std           1.235511\n",
       "min           0.000000\n",
       "25%           1.666667\n",
       "50%           2.666667\n",
       "75%           3.083333\n",
       "max           4.016667\n",
       "Name: CUST_DISC, dtype: float64"
      ]
     },
     "execution_count": 87,
     "metadata": {},
     "output_type": "execute_result"
    }
   ],
   "source": [
    "orders.CUST_DISC.describe()"
   ]
  },
  {
   "cell_type": "code",
   "execution_count": 88,
   "metadata": {
    "collapsed": true
   },
   "outputs": [],
   "source": [
    "# уберем из датафрейма дискаунты\n",
    "orders.drop(discounts, axis=1, inplace=True)"
   ]
  },
  {
   "cell_type": "code",
   "execution_count": 89,
   "metadata": {},
   "outputs": [
    {
     "name": "stdout",
     "output_type": "stream",
     "text": [
      "<class 'pandas.core.frame.DataFrame'>\n",
      "Int64Index: 163226 entries, 0 to 178599\n",
      "Data columns (total 14 columns):\n",
      "CUST_NAM          163226 non-null object\n",
      "SA_HDR_AMT        163226 non-null float64\n",
      "CUST_CAT          163226 non-null object\n",
      "LINES_QTY         163226 non-null int64\n",
      "ITEMS_QTY         163226 non-null float64\n",
      "CUST_ZIP_C        163226 non-null object\n",
      "CUST_CITY         163226 non-null object\n",
      "CUST_RET_QTY      163226 non-null float64\n",
      "CUST_RET_SUM      163226 non-null float64\n",
      "CUST_TIME_DEAL    163226 non-null int64\n",
      "CUST_TOTAL_AMT    163226 non-null float64\n",
      "SA_HDR_DOW        163226 non-null category\n",
      "CUST_DIST         163226 non-null float64\n",
      "CUST_DISC         163226 non-null float64\n",
      "dtypes: category(1), float64(7), int64(2), object(4)\n",
      "memory usage: 17.6+ MB\n"
     ]
    }
   ],
   "source": [
    "orders.info()"
   ]
  },
  {
   "cell_type": "code",
   "execution_count": 90,
   "metadata": {},
   "outputs": [
    {
     "data": {
      "text/html": [
       "<div>\n",
       "<style>\n",
       "    .dataframe thead tr:only-child th {\n",
       "        text-align: right;\n",
       "    }\n",
       "\n",
       "    .dataframe thead th {\n",
       "        text-align: left;\n",
       "    }\n",
       "\n",
       "    .dataframe tbody tr th {\n",
       "        vertical-align: top;\n",
       "    }\n",
       "</style>\n",
       "<table border=\"1\" class=\"dataframe\">\n",
       "  <thead>\n",
       "    <tr style=\"text-align: right;\">\n",
       "      <th></th>\n",
       "      <th>CUST_RET_QTY</th>\n",
       "      <th>CUST_RET_SUM</th>\n",
       "    </tr>\n",
       "  </thead>\n",
       "  <tbody>\n",
       "    <tr>\n",
       "      <th>count</th>\n",
       "      <td>163226.000000</td>\n",
       "      <td>163226.000000</td>\n",
       "    </tr>\n",
       "    <tr>\n",
       "      <th>mean</th>\n",
       "      <td>240.927028</td>\n",
       "      <td>-26050.107242</td>\n",
       "    </tr>\n",
       "    <tr>\n",
       "      <th>std</th>\n",
       "      <td>494.485489</td>\n",
       "      <td>48156.494438</td>\n",
       "    </tr>\n",
       "    <tr>\n",
       "      <th>min</th>\n",
       "      <td>0.000000</td>\n",
       "      <td>-141745.360000</td>\n",
       "    </tr>\n",
       "    <tr>\n",
       "      <th>25%</th>\n",
       "      <td>8.000000</td>\n",
       "      <td>-16627.240000</td>\n",
       "    </tr>\n",
       "    <tr>\n",
       "      <th>50%</th>\n",
       "      <td>27.000000</td>\n",
       "      <td>-5335.320000</td>\n",
       "    </tr>\n",
       "    <tr>\n",
       "      <th>75%</th>\n",
       "      <td>76.000000</td>\n",
       "      <td>-1384.070000</td>\n",
       "    </tr>\n",
       "    <tr>\n",
       "      <th>max</th>\n",
       "      <td>1433.000000</td>\n",
       "      <td>0.000000</td>\n",
       "    </tr>\n",
       "  </tbody>\n",
       "</table>\n",
       "</div>"
      ],
      "text/plain": [
       "        CUST_RET_QTY   CUST_RET_SUM\n",
       "count  163226.000000  163226.000000\n",
       "mean      240.927028  -26050.107242\n",
       "std       494.485489   48156.494438\n",
       "min         0.000000 -141745.360000\n",
       "25%         8.000000  -16627.240000\n",
       "50%        27.000000   -5335.320000\n",
       "75%        76.000000   -1384.070000\n",
       "max      1433.000000       0.000000"
      ]
     },
     "execution_count": 90,
     "metadata": {},
     "output_type": "execute_result"
    }
   ],
   "source": [
    "# анализ показателей возвратов\n",
    "orders[['CUST_RET_QTY', 'CUST_RET_SUM']].describe()"
   ]
  },
  {
   "cell_type": "code",
   "execution_count": 91,
   "metadata": {
    "collapsed": true
   },
   "outputs": [],
   "source": [
    "# преобразуем поле CUST_RET_SUM в его абсолютное значение\n",
    "orders.CUST_RET_SUM = abs(orders.loc[:,'CUST_RET_SUM'])"
   ]
  },
  {
   "cell_type": "code",
   "execution_count": 93,
   "metadata": {
    "collapsed": true
   },
   "outputs": [],
   "source": [
    "# сохраним датафрейм для следующего этапа\n",
    "orders.to_csv('orders_4.csv')"
   ]
  },
  {
   "cell_type": "code",
   "execution_count": null,
   "metadata": {
    "collapsed": true
   },
   "outputs": [],
   "source": []
  }
 ],
 "metadata": {
  "kernelspec": {
   "display_name": "Python 2",
   "language": "python",
   "name": "python2"
  },
  "language_info": {
   "codemirror_mode": {
    "name": "ipython",
    "version": 2
   },
   "file_extension": ".py",
   "mimetype": "text/x-python",
   "name": "python",
   "nbconvert_exporter": "python",
   "pygments_lexer": "ipython2",
   "version": "2.7.13"
  }
 },
 "nbformat": 4,
 "nbformat_minor": 2
}
