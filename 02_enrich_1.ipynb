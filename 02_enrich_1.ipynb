{
 "cells": [
  {
   "cell_type": "markdown",
   "metadata": {},
   "source": [
    "## Раздел II. Обогащение данных \n",
    "\n",
    "__В задачи этого этапа входит добавление к исследуемому набору дополнительных показателей , а также извлечение из имеющихся дополнительной информации, необходимой для построения модели__\n",
    "\n",
    "__Рабочим__ набором является датафрейм 'orders', который содержит обобщенные данные о продажах по покупателям\n"
   ]
  },
  {
   "cell_type": "code",
   "execution_count": 1,
   "metadata": {
    "collapsed": true
   },
   "outputs": [],
   "source": [
    "import pandas as pd\n",
    "import numpy as np\n",
    "from matplotlib import pyplot as plt\n",
    "%matplotlib inline\n",
    "from datetime import datetime"
   ]
  },
  {
   "cell_type": "code",
   "execution_count": 2,
   "metadata": {
    "collapsed": true
   },
   "outputs": [],
   "source": [
    "# загрузим рабочий набор, созданный на 1-м этапе \n",
    "orders = pd.read_csv('orders_1.csv', low_memory=False)"
   ]
  },
  {
   "cell_type": "code",
   "execution_count": 4,
   "metadata": {
    "collapsed": true
   },
   "outputs": [],
   "source": [
    "# импортируем из вспомогателього модуля 'my_utils' класс для работы с orders\n",
    "from my_utils import Order\n",
    "\n",
    "# создадим объект\n",
    "obj_orders = Order(orders)"
   ]
  },
  {
   "cell_type": "markdown",
   "metadata": {},
   "source": [
    "### a)  каждая накладная имеет важные характеристики - номенклатура приобретенных товаров (кол-во строк накладной)  и суммарное кол-во приобретенных товаров\n",
    "#### Извлечем эту информацию из первичного набора 'tickets' и присоединим  к рабочему датафрейму два новых поля:\n",
    "\n",
    "- __LINES_QTY__ - количество строк в накладной (номенклатура товаров)\n",
    "- __ITEMS_QTY__ - всего количество товаров"
   ]
  },
  {
   "cell_type": "code",
   "execution_count": 5,
   "metadata": {
    "collapsed": true
   },
   "outputs": [],
   "source": [
    "# загрузить `tickets`\n",
    "tickets = pd.read_csv('tickets.csv', low_memory=False)"
   ]
  },
  {
   "cell_type": "code",
   "execution_count": 6,
   "metadata": {
    "collapsed": true
   },
   "outputs": [],
   "source": [
    "# подсчитаем количество строк в каждой накладной\n",
    "ticket_lines = tickets.groupby(['SA_HDR_TIC'])['SA_HDR_TIC'].count()"
   ]
  },
  {
   "cell_type": "code",
   "execution_count": 7,
   "metadata": {
    "collapsed": true
   },
   "outputs": [],
   "source": [
    "# подсчитаем количество товаров в каждой накладной\n",
    "ticket_qty = tickets.groupby(['SA_HDR_TIC'])['SA_LIN_QTY'].sum()"
   ]
  },
  {
   "cell_type": "code",
   "execution_count": 8,
   "metadata": {},
   "outputs": [
    {
     "name": "stdout",
     "output_type": "stream",
     "text": [
      "(124729,) (124729,)\n"
     ]
    }
   ],
   "source": [
    "print ticket_lines.shape, ticket_qty.shape"
   ]
  },
  {
   "cell_type": "code",
   "execution_count": 9,
   "metadata": {
    "collapsed": true
   },
   "outputs": [],
   "source": [
    "# конвертируем в dataframe, чтобы слить с основной таблицей\n",
    "ticket_lines_df = pd.DataFrame(ticket_lines)\n",
    "ticket_qty_df = pd.DataFrame(ticket_qty)"
   ]
  },
  {
   "cell_type": "code",
   "execution_count": 10,
   "metadata": {
    "collapsed": true
   },
   "outputs": [],
   "source": [
    "# присоединим к исследуемому набору новые колонки признаков\n",
    "orders = pd.merge(orders, ticket_lines_df, left_on='SA_HDR_TIC', right_index=True)\n",
    "orders = pd.merge(orders, ticket_qty_df, left_on='SA_HDR_TIC', right_index=True, sort=True)"
   ]
  },
  {
   "cell_type": "code",
   "execution_count": 11,
   "metadata": {
    "collapsed": true
   },
   "outputs": [],
   "source": [
    "# переименуем присоединенные колонки\n",
    "orders.rename(columns={'SA_HDR_TIC_y':'LINES_QTY', 'SA_LIN_QTY': 'ITEMS_QTY'}, inplace=True)"
   ]
  },
  {
   "cell_type": "code",
   "execution_count": 12,
   "metadata": {
    "collapsed": true
   },
   "outputs": [],
   "source": [
    "# удалим лишние колонки\n",
    "orders.drop(['SA_HDR_TIC_x', 'CUST_NO_L6'], inplace=True, axis=1)"
   ]
  },
  {
   "cell_type": "code",
   "execution_count": 13,
   "metadata": {},
   "outputs": [
    {
     "name": "stdout",
     "output_type": "stream",
     "text": [
      "<class 'pandas.core.frame.DataFrame'>\n",
      "Int64Index: 124777 entries, 54180 to 54179\n",
      "Data columns (total 13 columns):\n",
      "SA_HDR_TIC    124777 non-null int64\n",
      "CUST_NAM      124776 non-null object\n",
      "SA_HDR_DAT    124777 non-null object\n",
      "SA_HDR_AMT    124777 non-null float64\n",
      "CUST_CAT      103709 non-null object\n",
      "CUST_PROFI    124777 non-null float64\n",
      "CUST_PRO01    124777 non-null float64\n",
      "CUST_PRO02    124777 non-null float64\n",
      "CUST_PRO03    124777 non-null float64\n",
      "CUST_PRO04    124777 non-null float64\n",
      "CUST_PRO05    124777 non-null float64\n",
      "LINES_QTY     124777 non-null int64\n",
      "ITEMS_QTY     124777 non-null float64\n",
      "dtypes: float64(8), int64(2), object(3)\n",
      "memory usage: 13.3+ MB\n"
     ]
    }
   ],
   "source": [
    "orders.info()"
   ]
  },
  {
   "cell_type": "code",
   "execution_count": 14,
   "metadata": {
    "collapsed": true
   },
   "outputs": [],
   "source": [
    "# видим, что одна строка набора не имеет имени покупателя - удалим ее\n",
    "orders.dropna(axis=0, subset=['CUST_NAM'], inplace=True)"
   ]
  },
  {
   "cell_type": "code",
   "execution_count": 15,
   "metadata": {},
   "outputs": [
    {
     "data": {
      "image/png": "[encoded data removed]",
      "text/plain": [
       "<matplotlib.figure.Figure at 0x1116d3790>"
      ]
     },
     "metadata": {},
     "output_type": "display_data"
    }
   ],
   "source": [
    "obj_orders.futures_dist()"
   ]
  },
  {
   "cell_type": "markdown",
   "metadata": {},
   "source": [
    "### б) из набора customers извлечем дополнительную информацию о характеристиках покупателей (город, zip-код, и т.д)\n",
    "\n"
   ]
  },
  {
   "cell_type": "code",
   "execution_count": 16,
   "metadata": {
    "collapsed": true
   },
   "outputs": [],
   "source": [
    "customers = pd.read_csv('customers.csv')"
   ]
  },
  {
   "cell_type": "code",
   "execution_count": 17,
   "metadata": {},
   "outputs": [
    {
     "data": {
      "text/plain": [
       "Index([u'Unnamed: 0', u'CUST_NO_L6', u'CUST_NAM_U', u'CUST_ZIP_C',\n",
       "       u'CUST_ADRS_', u'CUST_CITY', u'CUST_PHONE', u'CUST_ADR01',\n",
       "       u'CUST_BAL_M', u'CUST_CR_LI', u'CUST_PHO01', u'CUST_CONTC',\n",
       "       u'CUST_CON01', u'CUST_TYP', u'CUST_LST_P', u'CUST_LST01', u'CUST_BAL',\n",
       "       u'CUST_COMMN', u'CUST_CAT'],\n",
       "      dtype='object')"
      ]
     },
     "execution_count": 17,
     "metadata": {},
     "output_type": "execute_result"
    }
   ],
   "source": [
    "customers.columns"
   ]
  },
  {
   "cell_type": "code",
   "execution_count": 18,
   "metadata": {
    "collapsed": true
   },
   "outputs": [],
   "source": [
    "# сформируем список показателей для последующего анализа\n",
    "customer_fields_to_merge = ['CUST_NAM_U', 'CUST_ZIP_C', 'CUST_CITY',\n",
    "                           'CUST_LST_P','CUST_LST01','CUST_BAL']"
   ]
  },
  {
   "cell_type": "code",
   "execution_count": 19,
   "metadata": {
    "collapsed": true
   },
   "outputs": [],
   "source": [
    "# присоединим эти колонки к основному датафрейму по ключу 'CUST_NAM'\n",
    "orders = pd.merge(orders, customers[customer_fields_to_merge], left_on='CUST_NAM', \n",
    "         right_on='CUST_NAM_U', how='left')"
   ]
  },
  {
   "cell_type": "code",
   "execution_count": 20,
   "metadata": {
    "collapsed": true
   },
   "outputs": [],
   "source": [
    "orders = orders.drop('CUST_NAM_U', axis=1)"
   ]
  },
  {
   "cell_type": "code",
   "execution_count": 21,
   "metadata": {},
   "outputs": [
    {
     "data": {
      "image/png": "[encoded data removed]",
      "text/plain": [
       "<matplotlib.figure.Figure at 0x106e0d790>"
      ]
     },
     "metadata": {},
     "output_type": "display_data"
    }
   ],
   "source": [
    "obj_orders.futures_dist()"
   ]
  },
  {
   "cell_type": "markdown",
   "metadata": {},
   "source": [
    "### в). введем признаки, характеризующие покупателя\n",
    "- __CUST_RET_QTY__ - кол-во возвратов\n",
    "- __CUST_RET_SUM__ - общая сумма возвратов\n",
    "               \n",
    "*возвраты* - это отрицательное значение поля __SA_HDR_AMT__"
   ]
  },
  {
   "cell_type": "code",
   "execution_count": 22,
   "metadata": {},
   "outputs": [
    {
     "data": {
      "text/html": [
       "<div>\n",
       "<style>\n",
       "    .dataframe thead tr:only-child th {\n",
       "        text-align: right;\n",
       "    }\n",
       "\n",
       "    .dataframe thead th {\n",
       "        text-align: left;\n",
       "    }\n",
       "\n",
       "    .dataframe tbody tr th {\n",
       "        vertical-align: top;\n",
       "    }\n",
       "</style>\n",
       "<table border=\"1\" class=\"dataframe\">\n",
       "  <thead>\n",
       "    <tr style=\"text-align: right;\">\n",
       "      <th></th>\n",
       "      <th>SA_HDR_TIC</th>\n",
       "      <th>CUST_NAM</th>\n",
       "      <th>SA_HDR_DAT</th>\n",
       "      <th>SA_HDR_AMT</th>\n",
       "      <th>CUST_CAT</th>\n",
       "      <th>CUST_PROFI</th>\n",
       "      <th>CUST_PRO01</th>\n",
       "      <th>CUST_PRO02</th>\n",
       "      <th>CUST_PRO03</th>\n",
       "      <th>CUST_PRO04</th>\n",
       "      <th>CUST_PRO05</th>\n",
       "      <th>LINES_QTY</th>\n",
       "      <th>ITEMS_QTY</th>\n",
       "      <th>CUST_ZIP_C</th>\n",
       "      <th>CUST_CITY</th>\n",
       "      <th>CUST_LST_P</th>\n",
       "      <th>CUST_LST01</th>\n",
       "      <th>CUST_BAL</th>\n",
       "    </tr>\n",
       "  </thead>\n",
       "  <tbody>\n",
       "    <tr>\n",
       "      <th>63</th>\n",
       "      <td>1062</td>\n",
       "      <td>Walk-in</td>\n",
       "      <td>2005-09-06</td>\n",
       "      <td>-44.58</td>\n",
       "      <td>PA</td>\n",
       "      <td>0.0</td>\n",
       "      <td>0.00</td>\n",
       "      <td>0.00</td>\n",
       "      <td>0.0</td>\n",
       "      <td>0.0</td>\n",
       "      <td>0.0</td>\n",
       "      <td>1</td>\n",
       "      <td>-1.0</td>\n",
       "      <td>NaN</td>\n",
       "      <td>NaN</td>\n",
       "      <td>NaN</td>\n",
       "      <td>NaN</td>\n",
       "      <td>NaN</td>\n",
       "    </tr>\n",
       "    <tr>\n",
       "      <th>187</th>\n",
       "      <td>1184</td>\n",
       "      <td>METRO TOBACCO JUNCTION</td>\n",
       "      <td>2005-09-22</td>\n",
       "      <td>-870.40</td>\n",
       "      <td>PH</td>\n",
       "      <td>2.0</td>\n",
       "      <td>1.75</td>\n",
       "      <td>1.25</td>\n",
       "      <td>0.0</td>\n",
       "      <td>0.0</td>\n",
       "      <td>0.0</td>\n",
       "      <td>5</td>\n",
       "      <td>-20.0</td>\n",
       "      <td>19152</td>\n",
       "      <td>PHILADELPHIA</td>\n",
       "      <td>2015-10-28</td>\n",
       "      <td>3328.95</td>\n",
       "      <td>16.55</td>\n",
       "    </tr>\n",
       "    <tr>\n",
       "      <th>235</th>\n",
       "      <td>1231</td>\n",
       "      <td>52STR. A PLUS SUNOCO</td>\n",
       "      <td>2005-10-21</td>\n",
       "      <td>-3002.88</td>\n",
       "      <td>PH</td>\n",
       "      <td>3.1</td>\n",
       "      <td>2.75</td>\n",
       "      <td>2.75</td>\n",
       "      <td>0.0</td>\n",
       "      <td>0.0</td>\n",
       "      <td>0.0</td>\n",
       "      <td>7</td>\n",
       "      <td>-69.0</td>\n",
       "      <td>19143</td>\n",
       "      <td>PHILADELPHIA</td>\n",
       "      <td>2014-04-11</td>\n",
       "      <td>3077.33</td>\n",
       "      <td>-2413.30</td>\n",
       "    </tr>\n",
       "  </tbody>\n",
       "</table>\n",
       "</div>"
      ],
      "text/plain": [
       "     SA_HDR_TIC                CUST_NAM  SA_HDR_DAT  SA_HDR_AMT CUST_CAT  \\\n",
       "63         1062                 Walk-in  2005-09-06      -44.58       PA   \n",
       "187        1184  METRO TOBACCO JUNCTION  2005-09-22     -870.40       PH   \n",
       "235        1231    52STR. A PLUS SUNOCO  2005-10-21    -3002.88       PH   \n",
       "\n",
       "     CUST_PROFI  CUST_PRO01  CUST_PRO02  CUST_PRO03  CUST_PRO04  CUST_PRO05  \\\n",
       "63          0.0        0.00        0.00         0.0         0.0         0.0   \n",
       "187         2.0        1.75        1.25         0.0         0.0         0.0   \n",
       "235         3.1        2.75        2.75         0.0         0.0         0.0   \n",
       "\n",
       "     LINES_QTY  ITEMS_QTY CUST_ZIP_C     CUST_CITY  CUST_LST_P  CUST_LST01  \\\n",
       "63           1       -1.0        NaN           NaN         NaN         NaN   \n",
       "187          5      -20.0      19152  PHILADELPHIA  2015-10-28     3328.95   \n",
       "235          7      -69.0      19143  PHILADELPHIA  2014-04-11     3077.33   \n",
       "\n",
       "     CUST_BAL  \n",
       "63        NaN  \n",
       "187     16.55  \n",
       "235  -2413.30  "
      ]
     },
     "execution_count": 22,
     "metadata": {},
     "output_type": "execute_result"
    }
   ],
   "source": [
    "orders[orders.SA_HDR_AMT < 0].head(3)"
   ]
  },
  {
   "cell_type": "code",
   "execution_count": 23,
   "metadata": {},
   "outputs": [
    {
     "data": {
      "text/html": [
       "<div>\n",
       "<style>\n",
       "    .dataframe thead tr:only-child th {\n",
       "        text-align: right;\n",
       "    }\n",
       "\n",
       "    .dataframe thead th {\n",
       "        text-align: left;\n",
       "    }\n",
       "\n",
       "    .dataframe tbody tr th {\n",
       "        vertical-align: top;\n",
       "    }\n",
       "</style>\n",
       "<table border=\"1\" class=\"dataframe\">\n",
       "  <thead>\n",
       "    <tr style=\"text-align: right;\">\n",
       "      <th></th>\n",
       "      <th>count</th>\n",
       "      <th>sum</th>\n",
       "    </tr>\n",
       "    <tr>\n",
       "      <th>CUST_NAM</th>\n",
       "      <th></th>\n",
       "      <th></th>\n",
       "    </tr>\n",
       "  </thead>\n",
       "  <tbody>\n",
       "    <tr>\n",
       "      <th>11-TH STR. MOBIL</th>\n",
       "      <td>9</td>\n",
       "      <td>-7889.25</td>\n",
       "    </tr>\n",
       "    <tr>\n",
       "      <th>130 LIQUOR</th>\n",
       "      <td>22</td>\n",
       "      <td>-2063.78</td>\n",
       "    </tr>\n",
       "    <tr>\n",
       "      <th>1803 TORRESDALE BP</th>\n",
       "      <td>5</td>\n",
       "      <td>-1162.27</td>\n",
       "    </tr>\n",
       "  </tbody>\n",
       "</table>\n",
       "</div>"
      ],
      "text/plain": [
       "                    count      sum\n",
       "CUST_NAM                          \n",
       "11-TH STR. MOBIL        9 -7889.25\n",
       "130 LIQUOR             22 -2063.78\n",
       "1803 TORRESDALE BP      5 -1162.27"
      ]
     },
     "execution_count": 23,
     "metadata": {},
     "output_type": "execute_result"
    }
   ],
   "source": [
    "# произведем расчет в вспомогательный датафрейм, содержащий для каждого покупателя\n",
    "# его имя, кол-во и сумму возвратов за весь период\n",
    "\n",
    "returned_orders = orders[orders.SA_HDR_AMT < 0] \\\n",
    "    .groupby(['CUST_NAM'])['SA_HDR_AMT'].agg(['count','sum'])\n",
    "returned_orders.head(3)"
   ]
  },
  {
   "cell_type": "code",
   "execution_count": 24,
   "metadata": {
    "collapsed": true
   },
   "outputs": [],
   "source": [
    "# присоединим этот набор к рабочему датафрейму\n",
    "orders = pd.merge(orders, returned_orders, left_on='CUST_NAM', how='left', right_index=True)"
   ]
  },
  {
   "cell_type": "code",
   "execution_count": 25,
   "metadata": {
    "collapsed": true
   },
   "outputs": [],
   "source": [
    "# переименуем новые признаки\n",
    "orders = orders.rename(columns={'count': 'CUST_RET_QTY', 'sum': 'CUST_RET_SUM'})"
   ]
  },
  {
   "cell_type": "code",
   "execution_count": 26,
   "metadata": {},
   "outputs": [
    {
     "data": {
      "text/html": [
       "<div>\n",
       "<style>\n",
       "    .dataframe thead tr:only-child th {\n",
       "        text-align: right;\n",
       "    }\n",
       "\n",
       "    .dataframe thead th {\n",
       "        text-align: left;\n",
       "    }\n",
       "\n",
       "    .dataframe tbody tr th {\n",
       "        vertical-align: top;\n",
       "    }\n",
       "</style>\n",
       "<table border=\"1\" class=\"dataframe\">\n",
       "  <thead>\n",
       "    <tr style=\"text-align: right;\">\n",
       "      <th></th>\n",
       "      <th>CUST_RET_QTY</th>\n",
       "      <th>CUST_RET_SUM</th>\n",
       "    </tr>\n",
       "  </thead>\n",
       "  <tbody>\n",
       "    <tr>\n",
       "      <th>0</th>\n",
       "      <td>7.0</td>\n",
       "      <td>-1054.87</td>\n",
       "    </tr>\n",
       "    <tr>\n",
       "      <th>1</th>\n",
       "      <td>1.0</td>\n",
       "      <td>-135.84</td>\n",
       "    </tr>\n",
       "    <tr>\n",
       "      <th>2</th>\n",
       "      <td>NaN</td>\n",
       "      <td>NaN</td>\n",
       "    </tr>\n",
       "    <tr>\n",
       "      <th>3</th>\n",
       "      <td>56.0</td>\n",
       "      <td>-9939.68</td>\n",
       "    </tr>\n",
       "    <tr>\n",
       "      <th>4</th>\n",
       "      <td>1.0</td>\n",
       "      <td>-60.80</td>\n",
       "    </tr>\n",
       "  </tbody>\n",
       "</table>\n",
       "</div>"
      ],
      "text/plain": [
       "   CUST_RET_QTY  CUST_RET_SUM\n",
       "0           7.0      -1054.87\n",
       "1           1.0       -135.84\n",
       "2           NaN           NaN\n",
       "3          56.0      -9939.68\n",
       "4           1.0        -60.80"
      ]
     },
     "execution_count": 26,
     "metadata": {},
     "output_type": "execute_result"
    }
   ],
   "source": [
    "orders[['CUST_RET_QTY', 'CUST_RET_SUM']].head(5)"
   ]
  },
  {
   "cell_type": "code",
   "execution_count": 27,
   "metadata": {
    "collapsed": true
   },
   "outputs": [],
   "source": [
    "orders[['CUST_RET_QTY', 'CUST_RET_SUM']] = orders[['CUST_RET_QTY', 'CUST_RET_SUM']].fillna(0)"
   ]
  },
  {
   "cell_type": "code",
   "execution_count": 28,
   "metadata": {},
   "outputs": [
    {
     "data": {
      "image/png": "[encoded data removed]",
      "text/plain": [
       "<matplotlib.figure.Figure at 0x1103d5a50>"
      ]
     },
     "metadata": {},
     "output_type": "display_data"
    }
   ],
   "source": [
    "obj_orders.futures_dist()"
   ]
  },
  {
   "cell_type": "code",
   "execution_count": 29,
   "metadata": {},
   "outputs": [
    {
     "data": {
      "text/html": [
       "<div>\n",
       "<style>\n",
       "    .dataframe thead tr:only-child th {\n",
       "        text-align: right;\n",
       "    }\n",
       "\n",
       "    .dataframe thead th {\n",
       "        text-align: left;\n",
       "    }\n",
       "\n",
       "    .dataframe tbody tr th {\n",
       "        vertical-align: top;\n",
       "    }\n",
       "</style>\n",
       "<table border=\"1\" class=\"dataframe\">\n",
       "  <thead>\n",
       "    <tr style=\"text-align: right;\">\n",
       "      <th></th>\n",
       "      <th>SA_HDR_TIC</th>\n",
       "      <th>CUST_NAM</th>\n",
       "      <th>SA_HDR_DAT</th>\n",
       "      <th>SA_HDR_AMT</th>\n",
       "      <th>CUST_CAT</th>\n",
       "      <th>CUST_PROFI</th>\n",
       "      <th>CUST_PRO01</th>\n",
       "      <th>CUST_PRO02</th>\n",
       "      <th>CUST_PRO03</th>\n",
       "      <th>CUST_PRO04</th>\n",
       "      <th>CUST_PRO05</th>\n",
       "      <th>LINES_QTY</th>\n",
       "      <th>ITEMS_QTY</th>\n",
       "      <th>CUST_ZIP_C</th>\n",
       "      <th>CUST_CITY</th>\n",
       "      <th>CUST_LST_P</th>\n",
       "      <th>CUST_LST01</th>\n",
       "      <th>CUST_BAL</th>\n",
       "      <th>CUST_RET_QTY</th>\n",
       "      <th>CUST_RET_SUM</th>\n",
       "    </tr>\n",
       "  </thead>\n",
       "  <tbody>\n",
       "    <tr>\n",
       "      <th>0</th>\n",
       "      <td>1000</td>\n",
       "      <td>ARAMINGO GULF</td>\n",
       "      <td>2005-08-16</td>\n",
       "      <td>3916.80</td>\n",
       "      <td>PH</td>\n",
       "      <td>3.00</td>\n",
       "      <td>2.10</td>\n",
       "      <td>1.80</td>\n",
       "      <td>0.0</td>\n",
       "      <td>0.0</td>\n",
       "      <td>0.0</td>\n",
       "      <td>5</td>\n",
       "      <td>90.0</td>\n",
       "      <td>19124</td>\n",
       "      <td>PHILADELPHIA</td>\n",
       "      <td>2016-12-20</td>\n",
       "      <td>5172.48</td>\n",
       "      <td>5489.71</td>\n",
       "      <td>7.0</td>\n",
       "      <td>-1054.87</td>\n",
       "    </tr>\n",
       "    <tr>\n",
       "      <th>1</th>\n",
       "      <td>1001</td>\n",
       "      <td>HARRYS AMOCO</td>\n",
       "      <td>2005-08-16</td>\n",
       "      <td>2959.36</td>\n",
       "      <td>RG</td>\n",
       "      <td>2.00</td>\n",
       "      <td>1.50</td>\n",
       "      <td>1.50</td>\n",
       "      <td>0.0</td>\n",
       "      <td>0.0</td>\n",
       "      <td>0.0</td>\n",
       "      <td>8</td>\n",
       "      <td>68.0</td>\n",
       "      <td>19151</td>\n",
       "      <td>PHILADELPHIA</td>\n",
       "      <td>2008-06-02</td>\n",
       "      <td>828.80</td>\n",
       "      <td>0.00</td>\n",
       "      <td>1.0</td>\n",
       "      <td>-135.84</td>\n",
       "    </tr>\n",
       "    <tr>\n",
       "      <th>2</th>\n",
       "      <td>1002</td>\n",
       "      <td>WOODLYN MOBIL</td>\n",
       "      <td>2005-08-16</td>\n",
       "      <td>1653.76</td>\n",
       "      <td>1</td>\n",
       "      <td>2.00</td>\n",
       "      <td>1.25</td>\n",
       "      <td>1.10</td>\n",
       "      <td>0.0</td>\n",
       "      <td>0.0</td>\n",
       "      <td>0.0</td>\n",
       "      <td>8</td>\n",
       "      <td>38.0</td>\n",
       "      <td>19094</td>\n",
       "      <td>WOODLYN</td>\n",
       "      <td>2007-08-16</td>\n",
       "      <td>94.38</td>\n",
       "      <td>0.00</td>\n",
       "      <td>0.0</td>\n",
       "      <td>0.00</td>\n",
       "    </tr>\n",
       "    <tr>\n",
       "      <th>3</th>\n",
       "      <td>1003</td>\n",
       "      <td>SAIMART INC.</td>\n",
       "      <td>2005-08-16</td>\n",
       "      <td>565.76</td>\n",
       "      <td>PA</td>\n",
       "      <td>3.65</td>\n",
       "      <td>3.00</td>\n",
       "      <td>2.65</td>\n",
       "      <td>0.0</td>\n",
       "      <td>0.0</td>\n",
       "      <td>0.0</td>\n",
       "      <td>7</td>\n",
       "      <td>13.0</td>\n",
       "      <td>19320</td>\n",
       "      <td>COATSEVILLE</td>\n",
       "      <td>2016-12-28</td>\n",
       "      <td>5153.07</td>\n",
       "      <td>10011.87</td>\n",
       "      <td>56.0</td>\n",
       "      <td>-9939.68</td>\n",
       "    </tr>\n",
       "    <tr>\n",
       "      <th>4</th>\n",
       "      <td>1004</td>\n",
       "      <td>SUNOCO NORWOOD</td>\n",
       "      <td>2005-08-16</td>\n",
       "      <td>826.88</td>\n",
       "      <td>PL</td>\n",
       "      <td>2.00</td>\n",
       "      <td>1.25</td>\n",
       "      <td>1.10</td>\n",
       "      <td>0.0</td>\n",
       "      <td>0.0</td>\n",
       "      <td>0.0</td>\n",
       "      <td>4</td>\n",
       "      <td>19.0</td>\n",
       "      <td>19074</td>\n",
       "      <td>NORWOOD</td>\n",
       "      <td>2008-03-14</td>\n",
       "      <td>96.60</td>\n",
       "      <td>0.00</td>\n",
       "      <td>1.0</td>\n",
       "      <td>-60.80</td>\n",
       "    </tr>\n",
       "  </tbody>\n",
       "</table>\n",
       "</div>"
      ],
      "text/plain": [
       "   SA_HDR_TIC        CUST_NAM  SA_HDR_DAT  SA_HDR_AMT CUST_CAT  CUST_PROFI  \\\n",
       "0        1000   ARAMINGO GULF  2005-08-16     3916.80       PH        3.00   \n",
       "1        1001    HARRYS AMOCO  2005-08-16     2959.36       RG        2.00   \n",
       "2        1002   WOODLYN MOBIL  2005-08-16     1653.76        1        2.00   \n",
       "3        1003    SAIMART INC.  2005-08-16      565.76       PA        3.65   \n",
       "4        1004  SUNOCO NORWOOD  2005-08-16      826.88       PL        2.00   \n",
       "\n",
       "   CUST_PRO01  CUST_PRO02  CUST_PRO03  CUST_PRO04  CUST_PRO05  LINES_QTY  \\\n",
       "0        2.10        1.80         0.0         0.0         0.0          5   \n",
       "1        1.50        1.50         0.0         0.0         0.0          8   \n",
       "2        1.25        1.10         0.0         0.0         0.0          8   \n",
       "3        3.00        2.65         0.0         0.0         0.0          7   \n",
       "4        1.25        1.10         0.0         0.0         0.0          4   \n",
       "\n",
       "   ITEMS_QTY CUST_ZIP_C     CUST_CITY  CUST_LST_P  CUST_LST01  CUST_BAL  \\\n",
       "0       90.0      19124  PHILADELPHIA  2016-12-20     5172.48   5489.71   \n",
       "1       68.0      19151  PHILADELPHIA  2008-06-02      828.80      0.00   \n",
       "2       38.0      19094       WOODLYN  2007-08-16       94.38      0.00   \n",
       "3       13.0      19320   COATSEVILLE  2016-12-28     5153.07  10011.87   \n",
       "4       19.0      19074       NORWOOD  2008-03-14       96.60      0.00   \n",
       "\n",
       "   CUST_RET_QTY  CUST_RET_SUM  \n",
       "0           7.0      -1054.87  \n",
       "1           1.0       -135.84  \n",
       "2           0.0          0.00  \n",
       "3          56.0      -9939.68  \n",
       "4           1.0        -60.80  "
      ]
     },
     "execution_count": 29,
     "metadata": {},
     "output_type": "execute_result"
    }
   ],
   "source": [
    "orders.head()"
   ]
  },
  {
   "cell_type": "markdown",
   "metadata": {},
   "source": [
    "### г). рассчитаем признаки, характеризующие лояльность и доходность покупателя\n",
    "\n",
    "- __CUST_TIME_DEAL__ -  время, в течение которого покупатель приобретал товары (месяцах)\n",
    "\n",
    "Рассчитывается, как разность между последней и 1-й покупкой\n",
    "- __CUST_TOTAL_AMT__ - сумма, товаров купленных покупателем за весь период сотрудничества (с учетом возвратов)\n",
    "\n",
    "Рассчитывается, как сумма по полю SA_HDR_AMT для покупателя "
   ]
  },
  {
   "cell_type": "code",
   "execution_count": 30,
   "metadata": {
    "collapsed": true
   },
   "outputs": [],
   "source": [
    "# для выполнения расчетов преобразуем поле даты из строки в тип 'дата'\n",
    "orders.SA_HDR_DAT = pd.to_datetime(orders.SA_HDR_DAT)"
   ]
  },
  {
   "cell_type": "code",
   "execution_count": 31,
   "metadata": {},
   "outputs": [
    {
     "data": {
      "text/html": [
       "<div>\n",
       "<style>\n",
       "    .dataframe thead tr:only-child th {\n",
       "        text-align: right;\n",
       "    }\n",
       "\n",
       "    .dataframe thead th {\n",
       "        text-align: left;\n",
       "    }\n",
       "\n",
       "    .dataframe tbody tr th {\n",
       "        vertical-align: top;\n",
       "    }\n",
       "</style>\n",
       "<table border=\"1\" class=\"dataframe\">\n",
       "  <thead>\n",
       "    <tr style=\"text-align: right;\">\n",
       "      <th></th>\n",
       "      <th>min</th>\n",
       "      <th>max</th>\n",
       "    </tr>\n",
       "    <tr>\n",
       "      <th>CUST_NAM</th>\n",
       "      <th></th>\n",
       "      <th></th>\n",
       "    </tr>\n",
       "  </thead>\n",
       "  <tbody>\n",
       "    <tr>\n",
       "      <th>11-TH STR. MOBIL</th>\n",
       "      <td>2005-09-12</td>\n",
       "      <td>2008-03-12</td>\n",
       "    </tr>\n",
       "    <tr>\n",
       "      <th>130 LIQUOR</th>\n",
       "      <td>2008-06-26</td>\n",
       "      <td>2016-12-29</td>\n",
       "    </tr>\n",
       "    <tr>\n",
       "      <th>1803 TORRESDALE BP</th>\n",
       "      <td>2010-05-10</td>\n",
       "      <td>2011-12-23</td>\n",
       "    </tr>\n",
       "    <tr>\n",
       "      <th>28TH ST. MINI MARKET</th>\n",
       "      <td>2011-07-06</td>\n",
       "      <td>2012-08-15</td>\n",
       "    </tr>\n",
       "    <tr>\n",
       "      <th>29@30 SUNOCO</th>\n",
       "      <td>2012-05-30</td>\n",
       "      <td>2012-06-13</td>\n",
       "    </tr>\n",
       "  </tbody>\n",
       "</table>\n",
       "</div>"
      ],
      "text/plain": [
       "                            min        max\n",
       "CUST_NAM                                  \n",
       "11-TH STR. MOBIL     2005-09-12 2008-03-12\n",
       "130 LIQUOR           2008-06-26 2016-12-29\n",
       "1803 TORRESDALE BP   2010-05-10 2011-12-23\n",
       "28TH ST. MINI MARKET 2011-07-06 2012-08-15\n",
       "29@30 SUNOCO         2012-05-30 2012-06-13"
      ]
     },
     "execution_count": 31,
     "metadata": {},
     "output_type": "execute_result"
    }
   ],
   "source": [
    "# создадим временный датафрейм с мин. и мак. временем накладной по каждому покупателю\n",
    "min_max = orders.groupby(by=\"CUST_NAM\")['SA_HDR_DAT'].agg(['min', 'max'])\n",
    "min_max.head(5)"
   ]
  },
  {
   "cell_type": "code",
   "execution_count": 32,
   "metadata": {
    "collapsed": true
   },
   "outputs": [],
   "source": [
    "# подсчитаем разность\n",
    "min_max['CUST_TIME_DEAL'] = (min_max['max'] - min_max['min'])"
   ]
  },
  {
   "cell_type": "code",
   "execution_count": 33,
   "metadata": {
    "collapsed": true
   },
   "outputs": [],
   "source": [
    "# присоединим признак CUST_TIME_DEAL к основному датафрейму\n",
    "orders = pd.merge(orders, pd.DataFrame(min_max.CUST_TIME_DEAL), left_on='CUST_NAM',\n",
    "         right_index=True, how='left')"
   ]
  },
  {
   "cell_type": "code",
   "execution_count": 34,
   "metadata": {
    "collapsed": true
   },
   "outputs": [],
   "source": [
    "# перобразуем CUST_TIME_DEAL в дни \n",
    "orders.CUST_TIME_DEAL = orders.CUST_TIME_DEAL.dt.days"
   ]
  },
  {
   "cell_type": "code",
   "execution_count": 35,
   "metadata": {},
   "outputs": [
    {
     "data": {
      "text/html": [
       "<div>\n",
       "<style>\n",
       "    .dataframe thead tr:only-child th {\n",
       "        text-align: right;\n",
       "    }\n",
       "\n",
       "    .dataframe thead th {\n",
       "        text-align: left;\n",
       "    }\n",
       "\n",
       "    .dataframe tbody tr th {\n",
       "        vertical-align: top;\n",
       "    }\n",
       "</style>\n",
       "<table border=\"1\" class=\"dataframe\">\n",
       "  <thead>\n",
       "    <tr style=\"text-align: right;\">\n",
       "      <th></th>\n",
       "      <th>sum</th>\n",
       "    </tr>\n",
       "    <tr>\n",
       "      <th>CUST_NAM</th>\n",
       "      <th></th>\n",
       "    </tr>\n",
       "  </thead>\n",
       "  <tbody>\n",
       "    <tr>\n",
       "      <th>11-TH STR. MOBIL</th>\n",
       "      <td>315286.42</td>\n",
       "    </tr>\n",
       "    <tr>\n",
       "      <th>130 LIQUOR</th>\n",
       "      <td>775525.14</td>\n",
       "    </tr>\n",
       "    <tr>\n",
       "      <th>1803 TORRESDALE BP</th>\n",
       "      <td>318950.16</td>\n",
       "    </tr>\n",
       "    <tr>\n",
       "      <th>28TH ST. MINI MARKET</th>\n",
       "      <td>111492.34</td>\n",
       "    </tr>\n",
       "    <tr>\n",
       "      <th>29@30 SUNOCO</th>\n",
       "      <td>1703.16</td>\n",
       "    </tr>\n",
       "  </tbody>\n",
       "</table>\n",
       "</div>"
      ],
      "text/plain": [
       "                            sum\n",
       "CUST_NAM                       \n",
       "11-TH STR. MOBIL      315286.42\n",
       "130 LIQUOR            775525.14\n",
       "1803 TORRESDALE BP    318950.16\n",
       "28TH ST. MINI MARKET  111492.34\n",
       "29@30 SUNOCO            1703.16"
      ]
     },
     "execution_count": 35,
     "metadata": {},
     "output_type": "execute_result"
    }
   ],
   "source": [
    "# рассчитаем общую сумму покупок по покупателям в вспомогательный набор\n",
    "amt = orders.groupby(by=\"CUST_NAM\")['SA_HDR_AMT'].agg(['sum'])\n",
    "amt.head()"
   ]
  },
  {
   "cell_type": "code",
   "execution_count": 36,
   "metadata": {
    "collapsed": true
   },
   "outputs": [],
   "source": [
    "# присоединим признак CUST_TIME_DEAL к основному датафрейму\n",
    "orders = pd.merge(orders, amt, left_on='CUST_NAM',\n",
    "         right_index=True, how='left')\n",
    "\n",
    "orders.rename(columns={'sum': 'CUST_TOTAL_AMT'}, inplace=True)"
   ]
  },
  {
   "cell_type": "code",
   "execution_count": 37,
   "metadata": {},
   "outputs": [
    {
     "name": "stdout",
     "output_type": "stream",
     "text": [
      "<class 'pandas.core.frame.DataFrame'>\n",
      "Int64Index: 179259 entries, 0 to 179258\n",
      "Data columns (total 22 columns):\n",
      "SA_HDR_TIC        179259 non-null int64\n",
      "CUST_NAM          179259 non-null object\n",
      "SA_HDR_DAT        179259 non-null datetime64[ns]\n",
      "SA_HDR_AMT        179259 non-null float64\n",
      "CUST_CAT          141412 non-null object\n",
      "CUST_PROFI        179259 non-null float64\n",
      "CUST_PRO01        179259 non-null float64\n",
      "CUST_PRO02        179259 non-null float64\n",
      "CUST_PRO03        179259 non-null float64\n",
      "CUST_PRO04        179259 non-null float64\n",
      "CUST_PRO05        179259 non-null float64\n",
      "LINES_QTY         179259 non-null int64\n",
      "ITEMS_QTY         179259 non-null float64\n",
      "CUST_ZIP_C        178616 non-null object\n",
      "CUST_CITY         178617 non-null object\n",
      "CUST_LST_P        178006 non-null object\n",
      "CUST_LST01        178655 non-null float64\n",
      "CUST_BAL          178655 non-null float64\n",
      "CUST_RET_QTY      179259 non-null float64\n",
      "CUST_RET_SUM      179259 non-null float64\n",
      "CUST_TIME_DEAL    179259 non-null int64\n",
      "CUST_TOTAL_AMT    179259 non-null float64\n",
      "dtypes: datetime64[ns](1), float64(13), int64(3), object(5)\n",
      "memory usage: 31.5+ MB\n"
     ]
    }
   ],
   "source": [
    "orders.info()"
   ]
  },
  {
   "cell_type": "markdown",
   "metadata": {},
   "source": [
    "### д). добавить признак - день недели (номер), в который совершена покупка\n",
    "\n",
    "__SA_HDR_DOW__ - день недели, когда была сделана покупка "
   ]
  },
  {
   "cell_type": "code",
   "execution_count": 38,
   "metadata": {
    "collapsed": true
   },
   "outputs": [],
   "source": [
    "# добавим признак в дадасет\n",
    "orders['SA_HDR_DOW'] = orders.SA_HDR_DAT.dt.dayofweek"
   ]
  },
  {
   "cell_type": "code",
   "execution_count": 39,
   "metadata": {},
   "outputs": [
    {
     "name": "stdout",
     "output_type": "stream",
     "text": [
      "SA_HDR_DOW\n",
      "0    47299\n",
      "1    43791\n",
      "2    36101\n",
      "3    39696\n",
      "4    12316\n",
      "5       46\n",
      "6       10\n",
      "Name: SA_HDR_TIC, dtype: int64\n"
     ]
    }
   ],
   "source": [
    "group_by_dow = orders.groupby(by='SA_HDR_DOW')\n",
    "print(group_by_dow.SA_HDR_TIC.agg('count'))"
   ]
  },
  {
   "cell_type": "code",
   "execution_count": 40,
   "metadata": {
    "collapsed": true
   },
   "outputs": [],
   "source": [
    "# сохраним рабочий набор для следующего этапа\n",
    "orders.to_csv('orders_2-1.csv', index=False)"
   ]
  },
  {
   "cell_type": "code",
   "execution_count": null,
   "metadata": {
    "collapsed": true
   },
   "outputs": [],
   "source": []
  }
 ],
 "metadata": {
  "kernelspec": {
   "display_name": "Python 2",
   "language": "python",
   "name": "python2"
  },
  "language_info": {
   "codemirror_mode": {
    "name": "ipython",
    "version": 2
   },
   "file_extension": ".py",
   "mimetype": "text/x-python",
   "name": "python",
   "nbconvert_exporter": "python",
   "pygments_lexer": "ipython2",
   "version": "2.7.13"
  }
 },
 "nbformat": 4,
 "nbformat_minor": 2
}
