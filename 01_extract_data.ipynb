{
 "cells": [
  {
   "cell_type": "markdown",
   "metadata": {},
   "source": [
    "## ЗАДАЧА. \n",
    "### Построить прогнозную модель для оценки уровня продаж предприятия оптовой торговли.\n",
    "\n",
    "__Входными__ данными для модели являются показатели с характеристиками покупателей и исторические сведения об продажах за период с 2005 - 2016 гг.\n",
    "\n",
    "__Модель__ должна корректно (с приемлемой точностью) предсказывать уровень продаж по покупателям на определенный день.\n",
    "\n",
    "__Гипотеза__ - рабочая гипотеза состоит в том, что признаками, влияющими на объем продаж являются характеристики (свойства) покупателя, история покупок покупателя и характеристики периодов покупок."
   ]
  },
  {
   "cell_type": "markdown",
   "metadata": {},
   "source": [
    "### Этапы решения задачи (рис.)"
   ]
  },
  {
   "cell_type": "markdown",
   "metadata": {},
   "source": [
    "## Раздел I. Сбор и поготовка данных\n",
    "\n",
    "__В задачи этого этапа входит извлечение исторических данных по продажам товаров в различных филиалах компании, слияние этих данных, контроль и первичная очистка.__\n",
    "\n",
    "В наличии имеются 2 файла, хранящие информацию накладных в формате dbf.\n",
    "\n",
    "Требуется конвертировать эти файлы в формат датафреймов, сформировать таблицу и устранить дублирование.\n",
    "\n",
    "### TICKETS  - файл накладных\n",
    "- T_PP.DBF - накладные по филиалу №1 (280М)\n",
    "- T_PN.DBF - накладные пр филиалу №2 (165М)\n",
    "\n",
    "набор данных содержит информацию о продажах сигарет за период 2008-2016гг. Каждая запись - это информация из накладной, которая выписывается покупателю. Одна строка содержит сведения о продаже одного товара, т.е. если в накладной несколько товаров,то будет нескольео строк с одинаковым номером накладной.\n",
    "\n",
    "на выходе необходимо получить датафрейм, в котром будут следующие поля:\n",
    "#### Описание полей:\n",
    "- __CUST_NAM__ - имя покупателя\n",
    "- __CUST_NO_L6__ - код покупателя\n",
    "- __CUST_CAT__ - категория покупателя\n",
    "- __SA_HDR_TIC__ - номер накладной\n",
    "- __SA_HDR_DAT__ - дата накладной\n",
    "- __SA_HDR_AMT__ - сумма накладной ($)\n",
    "- __ITEM_NO__ - код товара\n",
    "- __ITEM_DESC__ - наименование товара\n",
    "- __SA_LIN_QTY__ - количество товара\n",
    "- __SA_LIN_PRC__ - цена за ед. \n",
    "- __SA_LIN_COS__ - стоимость за ед.\n"
   ]
  },
  {
   "cell_type": "code",
   "execution_count": 1,
   "metadata": {
    "collapsed": true
   },
   "outputs": [],
   "source": [
    "import pandas as pd\n",
    "from simpledbf import Dbf5      # библиотека для работы с dbf-форматом"
   ]
  },
  {
   "cell_type": "markdown",
   "metadata": {},
   "source": [
    "### a) извлечение и консолидация данных"
   ]
  },
  {
   "cell_type": "code",
   "execution_count": null,
   "metadata": {},
   "outputs": [],
   "source": [
    "# загрузка данных филиала №1\n",
    "dbf = Dbf5('T_PP.DBF')\n",
    "data_PP = Dbf5.to_dataframe(dbf)\n",
    "\n",
    "# загрузка данных филиала №2\n",
    "dbf = Dbf5('T_PN.DBF')\n",
    "data_PN = Dbf5.to_dataframe(dbf)"
   ]
  },
  {
   "cell_type": "code",
   "execution_count": null,
   "metadata": {
    "collapsed": true
   },
   "outputs": [],
   "source": [
    "# слияние импортированных датафреймов\n",
    "tickets = pd.concat([data_PN, data_PP], ignore_index=True)\n",
    "print 'минимальная дата =',tickets.SA_HDR_DAT.min(); \n",
    "print 'максимальная дата =',tickets.SA_HDR_DAT.max()"
   ]
  },
  {
   "cell_type": "code",
   "execution_count": null,
   "metadata": {
    "collapsed": true
   },
   "outputs": [],
   "source": [
    "# удалить дублированные строки\n",
    "tickets = tickets.drop_duplicates()"
   ]
  },
  {
   "cell_type": "code",
   "execution_count": null,
   "metadata": {
    "collapsed": true
   },
   "outputs": [],
   "source": [
    "tickets.shape     # размер датафрейма (строк, столбцов)"
   ]
  },
  {
   "cell_type": "code",
   "execution_count": null,
   "metadata": {
    "collapsed": true
   },
   "outputs": [],
   "source": [
    "tickets.head(3)   # вывод первых 3-х строк"
   ]
  },
  {
   "cell_type": "code",
   "execution_count": null,
   "metadata": {
    "collapsed": true
   },
   "outputs": [],
   "source": [
    "tickets.tail(3)   # вывод последних 3-х строк"
   ]
  },
  {
   "cell_type": "code",
   "execution_count": null,
   "metadata": {
    "collapsed": true
   },
   "outputs": [],
   "source": [
    "tickets.info()    # вывод общей информации о датафрейме"
   ]
  },
  {
   "cell_type": "code",
   "execution_count": null,
   "metadata": {
    "collapsed": true
   },
   "outputs": [],
   "source": [
    "# выгрузить датафрейм на диск в виде csv-файла \n",
    "tickets.to_csv('tickets.csv', index=False)"
   ]
  },
  {
   "cell_type": "markdown",
   "metadata": {},
   "source": [
    "### б) агрегация данных (создание рабочего датафрейма)"
   ]
  },
  {
   "cell_type": "code",
   "execution_count": null,
   "metadata": {
    "collapsed": true
   },
   "outputs": [],
   "source": [
    "# загрузить `tickets`\n",
    "tickets = pd.read_csv('tickets.csv', low_memory=False)"
   ]
  },
  {
   "cell_type": "code",
   "execution_count": null,
   "metadata": {
    "collapsed": true
   },
   "outputs": [],
   "source": [
    "# выбираем необходимые колонки (строим 'макет' рабочего датафрейма)\n",
    "order_columns = ['CUST_NAM','CUST_NO_L6', 'SA_HDR_TIC', 'SA_HDR_DAT', 'SA_HDR_AMT', \n",
    "                 'CUST_CAT', 'CUST_PROFI', 'CUST_PRO01',\n",
    "                 'CUST_PRO02', 'CUST_PRO03', 'CUST_PRO04', 'CUST_PRO05']\n",
    "\n",
    "orders_tmp = tickets[order_columns]"
   ]
  },
  {
   "cell_type": "code",
   "execution_count": null,
   "metadata": {
    "collapsed": true
   },
   "outputs": [],
   "source": [
    "orders_tmp.shape"
   ]
  },
  {
   "cell_type": "code",
   "execution_count": null,
   "metadata": {
    "collapsed": true
   },
   "outputs": [],
   "source": [
    "# в временном файле уберем дублированные записи\n",
    "orders = orders_tmp.drop_duplicates()"
   ]
  },
  {
   "cell_type": "code",
   "execution_count": null,
   "metadata": {
    "collapsed": true
   },
   "outputs": [],
   "source": [
    "orders.shape    # 'свернули' датафрейм почти в 10 раз"
   ]
  },
  {
   "cell_type": "code",
   "execution_count": null,
   "metadata": {
    "collapsed": true
   },
   "outputs": [],
   "source": [
    "orders.shape[0]    # количество накладных (продаж) для анализа"
   ]
  },
  {
   "cell_type": "code",
   "execution_count": null,
   "metadata": {
    "collapsed": true
   },
   "outputs": [],
   "source": [
    "orders.info()"
   ]
  },
  {
   "cell_type": "code",
   "execution_count": null,
   "metadata": {
    "collapsed": true
   },
   "outputs": [],
   "source": [
    "# сохраним 'orders' на диск для следующего этапа\n",
    "orders.to_csv('orders_1.csv', index=False)"
   ]
  },
  {
   "cell_type": "code",
   "execution_count": null,
   "metadata": {
    "collapsed": true
   },
   "outputs": [],
   "source": []
  }
 ],
 "metadata": {
  "kernelspec": {
   "display_name": "Python 2",
   "language": "python",
   "name": "python2"
  },
  "language_info": {
   "codemirror_mode": {
    "name": "ipython",
    "version": 2
   },
   "file_extension": ".py",
   "mimetype": "text/x-python",
   "name": "python",
   "nbconvert_exporter": "python",
   "pygments_lexer": "ipython2",
   "version": "2.7.13"
  }
 },
 "nbformat": 4,
 "nbformat_minor": 2
}
